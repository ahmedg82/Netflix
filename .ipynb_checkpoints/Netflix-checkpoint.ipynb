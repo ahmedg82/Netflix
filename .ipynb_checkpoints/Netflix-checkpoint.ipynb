{
 "cells": [
  {
   "cell_type": "code",
   "execution_count": 1,
   "id": "neural-contamination",
   "metadata": {},
   "outputs": [],
   "source": [
    "# First let's import the packages we will use in this project\n",
    "import pandas as pd\n",
    "import numpy as np\n",
    "import seaborn as sns\n",
    "\n",
    "import matplotlib.pyplot as plt\n",
    "import matplotlib.mlab as mlab\n",
    "import matplotlib\n",
    "plt.style.use('ggplot')\n",
    "from matplotlib.pyplot import figure\n",
    "\n",
    "%matplotlib inline\n",
    "matplotlib.rcParams['figure.figsize'] = (12,8)\n",
    "\n",
    "pd.options.mode.chained_assignment = None"
   ]
  },
  {
   "cell_type": "code",
   "execution_count": 2,
   "id": "minimal-malpractice",
   "metadata": {},
   "outputs": [
    {
     "name": "stdout",
     "output_type": "stream",
     "text": [
      " Volume in drive C has no label.\n",
      " Volume Serial Number is 6801-3373\n",
      "\n",
      " Directory of C:\\Users\\USER\\OneDrive\\Data_Quest\\Portfolio Projects\\Netflix Movies and TV Shows\n",
      "\n",
      "31/07/2021  12:36    <DIR>          .\n",
      "31/07/2021  12:36    <DIR>          ..\n",
      "31/07/2021  12:36    <DIR>          .ipynb_checkpoints\n",
      "31/07/2021  12:36                23 .jovianrc\n",
      "31/07/2021  12:35                72 Netflix.ipynb\n",
      "18/01/2021  16:20         3,000,491 netflix_titles.csv\n",
      "               3 File(s)      3,000,586 bytes\n",
      "               3 Dir(s)  69,638,414,336 bytes free\n"
     ]
    }
   ],
   "source": [
    "%ls"
   ]
  },
  {
   "cell_type": "code",
   "execution_count": 4,
   "id": "tamil-reading",
   "metadata": {},
   "outputs": [],
   "source": [
    "# readig the dateset\n",
    "df = pd.read_csv('netflix_titles.csv')"
   ]
  },
  {
   "cell_type": "code",
   "execution_count": 6,
   "id": "varying-extreme",
   "metadata": {},
   "outputs": [
    {
     "data": {
      "text/html": [
       "<div>\n",
       "<style scoped>\n",
       "    .dataframe tbody tr th:only-of-type {\n",
       "        vertical-align: middle;\n",
       "    }\n",
       "\n",
       "    .dataframe tbody tr th {\n",
       "        vertical-align: top;\n",
       "    }\n",
       "\n",
       "    .dataframe thead th {\n",
       "        text-align: right;\n",
       "    }\n",
       "</style>\n",
       "<table border=\"1\" class=\"dataframe\">\n",
       "  <thead>\n",
       "    <tr style=\"text-align: right;\">\n",
       "      <th></th>\n",
       "      <th>show_id</th>\n",
       "      <th>type</th>\n",
       "      <th>title</th>\n",
       "      <th>director</th>\n",
       "      <th>cast</th>\n",
       "      <th>country</th>\n",
       "      <th>date_added</th>\n",
       "      <th>release_year</th>\n",
       "      <th>rating</th>\n",
       "      <th>duration</th>\n",
       "      <th>listed_in</th>\n",
       "      <th>description</th>\n",
       "    </tr>\n",
       "  </thead>\n",
       "  <tbody>\n",
       "    <tr>\n",
       "      <th>4662</th>\n",
       "      <td>s4663</td>\n",
       "      <td>Movie</td>\n",
       "      <td>Only the Dead</td>\n",
       "      <td>Bill Guttentag, Michael Ware</td>\n",
       "      <td>Michael Ware</td>\n",
       "      <td>Australia, Iraq</td>\n",
       "      <td>November 15, 2018</td>\n",
       "      <td>2015</td>\n",
       "      <td>TV-MA</td>\n",
       "      <td>76 min</td>\n",
       "      <td>Documentaries, International Movies</td>\n",
       "      <td>Given unprecedented access to soldiers and ter...</td>\n",
       "    </tr>\n",
       "    <tr>\n",
       "      <th>7743</th>\n",
       "      <td>s7744</td>\n",
       "      <td>TV Show</td>\n",
       "      <td>Yours Fatefully</td>\n",
       "      <td>NaN</td>\n",
       "      <td>Kingone Wang, Jesseca Liu, Xiang Yun, Chen Shu...</td>\n",
       "      <td>Singapore</td>\n",
       "      <td>July 1, 2017</td>\n",
       "      <td>2012</td>\n",
       "      <td>TV-14</td>\n",
       "      <td>1 Season</td>\n",
       "      <td>International TV Shows, Romantic TV Shows, TV ...</td>\n",
       "      <td>Two lonely singles meet on a blind date and sl...</td>\n",
       "    </tr>\n",
       "    <tr>\n",
       "      <th>932</th>\n",
       "      <td>s933</td>\n",
       "      <td>Movie</td>\n",
       "      <td>Bioscope</td>\n",
       "      <td>Gajendra Ahire, Viju Mane, Girish Mohite, Ravi...</td>\n",
       "      <td>Nina Kulkarni, Suhas Palshikar, Kushal Badrike...</td>\n",
       "      <td>India</td>\n",
       "      <td>August 15, 2018</td>\n",
       "      <td>2015</td>\n",
       "      <td>TV-14</td>\n",
       "      <td>131 min</td>\n",
       "      <td>Dramas, International Movies, LGBTQ Movies</td>\n",
       "      <td>Inspired by classic and contemporary literatur...</td>\n",
       "    </tr>\n",
       "    <tr>\n",
       "      <th>6020</th>\n",
       "      <td>s6021</td>\n",
       "      <td>Movie</td>\n",
       "      <td>Temporada de Caza</td>\n",
       "      <td>Natalia Garagiola</td>\n",
       "      <td>Germán Palacios, Lautaro Bettoni, Boy Olmi, Ri...</td>\n",
       "      <td>Argentina, France, United States, Germany, Qatar</td>\n",
       "      <td>July 15, 2018</td>\n",
       "      <td>2017</td>\n",
       "      <td>TV-MA</td>\n",
       "      <td>108 min</td>\n",
       "      <td>Dramas, International Movies</td>\n",
       "      <td>Animosity gives way to love and forgiveness wh...</td>\n",
       "    </tr>\n",
       "    <tr>\n",
       "      <th>6093</th>\n",
       "      <td>s6094</td>\n",
       "      <td>Movie</td>\n",
       "      <td>The Art of the Steal</td>\n",
       "      <td>Jonathan Sobol</td>\n",
       "      <td>Kurt Russell, Jay Baruchel, Katheryn Winnick, ...</td>\n",
       "      <td>Canada, United States</td>\n",
       "      <td>December 8, 2018</td>\n",
       "      <td>2013</td>\n",
       "      <td>R</td>\n",
       "      <td>90 min</td>\n",
       "      <td>Action &amp; Adventure, Comedies, Independent Movies</td>\n",
       "      <td>Crunch Calhoun, a daredevil motorcyclist and m...</td>\n",
       "    </tr>\n",
       "  </tbody>\n",
       "</table>\n",
       "</div>"
      ],
      "text/plain": [
       "     show_id     type                 title  \\\n",
       "4662   s4663    Movie         Only the Dead   \n",
       "7743   s7744  TV Show       Yours Fatefully   \n",
       "932     s933    Movie              Bioscope   \n",
       "6020   s6021    Movie     Temporada de Caza   \n",
       "6093   s6094    Movie  The Art of the Steal   \n",
       "\n",
       "                                               director  \\\n",
       "4662                       Bill Guttentag, Michael Ware   \n",
       "7743                                                NaN   \n",
       "932   Gajendra Ahire, Viju Mane, Girish Mohite, Ravi...   \n",
       "6020                                  Natalia Garagiola   \n",
       "6093                                     Jonathan Sobol   \n",
       "\n",
       "                                                   cast  \\\n",
       "4662                                       Michael Ware   \n",
       "7743  Kingone Wang, Jesseca Liu, Xiang Yun, Chen Shu...   \n",
       "932   Nina Kulkarni, Suhas Palshikar, Kushal Badrike...   \n",
       "6020  Germán Palacios, Lautaro Bettoni, Boy Olmi, Ri...   \n",
       "6093  Kurt Russell, Jay Baruchel, Katheryn Winnick, ...   \n",
       "\n",
       "                                               country         date_added  \\\n",
       "4662                                   Australia, Iraq  November 15, 2018   \n",
       "7743                                         Singapore       July 1, 2017   \n",
       "932                                              India    August 15, 2018   \n",
       "6020  Argentina, France, United States, Germany, Qatar      July 15, 2018   \n",
       "6093                             Canada, United States   December 8, 2018   \n",
       "\n",
       "      release_year rating  duration  \\\n",
       "4662          2015  TV-MA    76 min   \n",
       "7743          2012  TV-14  1 Season   \n",
       "932           2015  TV-14   131 min   \n",
       "6020          2017  TV-MA   108 min   \n",
       "6093          2013      R    90 min   \n",
       "\n",
       "                                              listed_in  \\\n",
       "4662                Documentaries, International Movies   \n",
       "7743  International TV Shows, Romantic TV Shows, TV ...   \n",
       "932          Dramas, International Movies, LGBTQ Movies   \n",
       "6020                       Dramas, International Movies   \n",
       "6093   Action & Adventure, Comedies, Independent Movies   \n",
       "\n",
       "                                            description  \n",
       "4662  Given unprecedented access to soldiers and ter...  \n",
       "7743  Two lonely singles meet on a blind date and sl...  \n",
       "932   Inspired by classic and contemporary literatur...  \n",
       "6020  Animosity gives way to love and forgiveness wh...  \n",
       "6093  Crunch Calhoun, a daredevil motorcyclist and m...  "
      ]
     },
     "execution_count": 6,
     "metadata": {},
     "output_type": "execute_result"
    }
   ],
   "source": [
    "df.sample(5)"
   ]
  },
  {
   "cell_type": "code",
   "execution_count": 7,
   "id": "hidden-transsexual",
   "metadata": {},
   "outputs": [
    {
     "name": "stdout",
     "output_type": "stream",
     "text": [
      "<class 'pandas.core.frame.DataFrame'>\n",
      "RangeIndex: 7787 entries, 0 to 7786\n",
      "Data columns (total 12 columns):\n",
      " #   Column        Non-Null Count  Dtype \n",
      "---  ------        --------------  ----- \n",
      " 0   show_id       7787 non-null   object\n",
      " 1   type          7787 non-null   object\n",
      " 2   title         7787 non-null   object\n",
      " 3   director      5398 non-null   object\n",
      " 4   cast          7069 non-null   object\n",
      " 5   country       7280 non-null   object\n",
      " 6   date_added    7777 non-null   object\n",
      " 7   release_year  7787 non-null   int64 \n",
      " 8   rating        7780 non-null   object\n",
      " 9   duration      7787 non-null   object\n",
      " 10  listed_in     7787 non-null   object\n",
      " 11  description   7787 non-null   object\n",
      "dtypes: int64(1), object(11)\n",
      "memory usage: 730.2+ KB\n"
     ]
    }
   ],
   "source": [
    "df.info()"
   ]
  },
  {
   "cell_type": "code",
   "execution_count": 8,
   "id": "boolean-payday",
   "metadata": {},
   "outputs": [
    {
     "data": {
      "image/png": "[encoded data removed]",
      "text/plain": [
       "<Figure size 864x576 with 1 Axes>"
      ]
     },
     "metadata": {
      "needs_background": "light"
     },
     "output_type": "display_data"
    }
   ],
   "source": [
    "sns.heatmap(df.isnull(), cbar=False) \n",
    "plt.title('Titanic dataset', fontsize = 15)\n",
    "plt.show()"
   ]
  },
  {
   "cell_type": "code",
   "execution_count": 9,
   "id": "interior-warrior",
   "metadata": {},
   "outputs": [
    {
     "name": "stdout",
     "output_type": "stream",
     "text": [
      "show_id ***** 0.0%\n",
      "type ***** 0.0%\n",
      "title ***** 0.0%\n",
      "director ***** 30.679337357133683%\n",
      "cast ***** 9.220495697958135%\n",
      "country ***** 6.51085141903172%\n",
      "date_added ***** 0.1284191601386927%\n",
      "release_year ***** 0.0%\n",
      "rating ***** 0.08989341209708489%\n",
      "duration ***** 0.0%\n",
      "listed_in ***** 0.0%\n",
      "description ***** 0.0%\n"
     ]
    }
   ],
   "source": [
    "# Let's see if there is any missing data\n",
    "for cols in df.columns:\n",
    "    pct_missing = np.mean(df[cols].isnull())*100\n",
    "    print('{} ***** {}%'.format(cols,pct_missing))"
   ]
  },
  {
   "cell_type": "code",
   "execution_count": null,
   "id": "shared-intellectual",
   "metadata": {},
   "outputs": [],
   "source": []
  }
 ],
 "metadata": {
  "kernelspec": {
   "display_name": "Python 3",
   "language": "python",
   "name": "python3"
  },
  "language_info": {
   "codemirror_mode": {
    "name": "ipython",
    "version": 3
   },
   "file_extension": ".py",
   "mimetype": "text/x-python",
   "name": "python",
   "nbconvert_exporter": "python",
   "pygments_lexer": "ipython3",
   "version": "3.8.3"
  }
 },
 "nbformat": 4,
 "nbformat_minor": 5
}
